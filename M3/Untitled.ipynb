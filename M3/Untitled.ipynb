{
 "cells": [
  {
   "cell_type": "markdown",
   "id": "2210929b",
   "metadata": {},
   "source": [
    "## INTRODUCCION A PANDAS Y MATPLOTLIB\n",
    "\n",
    "\n"
   ]
  },
  {
   "cell_type": "code",
   "execution_count": 1,
   "id": "adb4c98f",
   "metadata": {},
   "outputs": [
    {
     "ename": "SyntaxError",
     "evalue": "invalid syntax (Temp/ipykernel_20736/306642536.py, line 2)",
     "output_type": "error",
     "traceback": [
      "\u001b[1;36m  File \u001b[1;32m\"C:\\Users\\Iker\\AppData\\Local\\Temp/ipykernel_20736/306642536.py\"\u001b[1;36m, line \u001b[1;32m2\u001b[0m\n\u001b[1;33m    datos = (\"nombre:[\"Hamburgesa\", \"hotdogs\", \"alitas\", \"papas a la francesa\", \"platanos fritos\"],\u001b[0m\n\u001b[1;37m                       ^\u001b[0m\n\u001b[1;31mSyntaxError\u001b[0m\u001b[1;31m:\u001b[0m invalid syntax\n"
     ]
    }
   ],
   "source": [
    "import pandas as pd\n",
    "datos = (\"nombre:[\"Hamburgesa\", \"hotdogs\", \"alitas\", \"papas a la francesa\", \"platanos fritos\"],\n",
    "        \"precio\": [50,25, 35, 30],\n",
    "        \"vendidos\": [5,4,5,0,2],\n",
    "        \"disponibilidad\": [\"viernes\", \"sabados\", \"sabados\", [\"viernes\", \"sabados\"], [\"viernes\",\"sabados\"]])\n"
   ]
  },
  {
   "cell_type": "code",
   "execution_count": null,
   "id": "1c5fab6b",
   "metadata": {},
   "outputs": [],
   "source": []
  },
  {
   "cell_type": "code",
   "execution_count": 2,
   "id": "727d1754",
   "metadata": {},
   "outputs": [
    {
     "ename": "NameError",
     "evalue": "name 'pd' is not defined",
     "output_type": "error",
     "traceback": [
      "\u001b[1;31m---------------------------------------------------------------------------\u001b[0m",
      "\u001b[1;31mNameError\u001b[0m                                 Traceback (most recent call last)",
      "\u001b[1;32m~\\AppData\\Local\\Temp/ipykernel_20736/1528413498.py\u001b[0m in \u001b[0;36m<module>\u001b[1;34m\u001b[0m\n\u001b[1;32m----> 1\u001b[1;33m \u001b[0mdf\u001b[0m\u001b[1;33m=\u001b[0m\u001b[0mpd\u001b[0m\u001b[1;33m.\u001b[0m\u001b[0mDataFrame\u001b[0m\u001b[1;33m(\u001b[0m\u001b[0mdatos\u001b[0m\u001b[1;33m)\u001b[0m\u001b[1;33m\u001b[0m\u001b[1;33m\u001b[0m\u001b[0m\n\u001b[0m",
      "\u001b[1;31mNameError\u001b[0m: name 'pd' is not defined"
     ]
    }
   ],
   "source": [
    "df=pd.DataFrame(datos)"
   ]
  }
 ],
 "metadata": {
  "kernelspec": {
   "display_name": "Python 3 (ipykernel)",
   "language": "python",
   "name": "python3"
  },
  "language_info": {
   "codemirror_mode": {
    "name": "ipython",
    "version": 3
   },
   "file_extension": ".py",
   "mimetype": "text/x-python",
   "name": "python",
   "nbconvert_exporter": "python",
   "pygments_lexer": "ipython3",
   "version": "3.9.6"
  }
 },
 "nbformat": 4,
 "nbformat_minor": 5
}
